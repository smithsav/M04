{
 "cells": [
  {
   "cell_type": "markdown",
   "id": "51c24c9a-d9dc-4e4d-8d6a-e66bb581d7fe",
   "metadata": {},
   "source": [
    "# Savannah Smith\n",
    "# M04 Programming Assignment Modules and Databases"
   ]
  },
  {
   "cell_type": "markdown",
   "id": "6d0edc57-1f83-419a-bfcf-56f7cff7a65c",
   "metadata": {},
   "source": [
    "# 11.1\n",
    "# Create a file called zoo.py. In it, define a function called hours() that prints the string 'Open 9-5 daily'. Then, use the interactive interpreter to import the zoo module and call its hours() function."
   ]
  },
  {
   "cell_type": "code",
   "execution_count": null,
   "id": "b1e3c6af-c053-48ed-b889-f9b917f36433",
   "metadata": {},
   "outputs": [],
   "source": [
    "def hours():\n",
    "    print('Open 9-5 daily')"
   ]
  },
  {
   "cell_type": "code",
   "execution_count": null,
   "id": "32684af3-a573-448a-a264-146a09bf209a",
   "metadata": {},
   "outputs": [],
   "source": [
    "hours()"
   ]
  },
  {
   "cell_type": "markdown",
   "id": "3e0073a5-422c-406f-b7a3-c27c9c647b1e",
   "metadata": {},
   "source": [
    "# 11.2 \n",
    "# In the interactive interpreter, import the zoo module as menagerie and call its hours() function."
   ]
  },
  {
   "cell_type": "code",
   "execution_count": null,
   "id": "bddeac56-e7aa-40b4-968d-4c82b99a0bb0",
   "metadata": {},
   "outputs": [],
   "source": [
    "import zoo as menagerie\n",
    "menagerie.hours()"
   ]
  },
  {
   "cell_type": "code",
   "execution_count": null,
   "id": "4dd75d97-d6a9-44ee-b68d-7414e0230dab",
   "metadata": {},
   "outputs": [],
   "source": [
    "import sqlite3\n",
    "\n",
    "conn = sqlite3.connect('books.db')\n",
    "\n",
    "cursor = conn.cursor()\n",
    "\n",
    "create_table_query = '''\n",
    "CREATE TABLE IF NOT EXISTS books (\n",
    "    title TEXT,\n",
    "    author TEXT,\n",
    "    year INTEGER\n",
    ")\n",
    "'''\n",
    "\n",
    "cursor.execute(create_table_query)\n",
    "\n",
    "conn.commit()\n",
    "conn.close()\n",
    "\n",
    "print(\"Database and table created successfully.\")"
   ]
  },
  {
   "cell_type": "code",
   "execution_count": null,
   "id": "12927e17-6447-4523-98d0-94c18d5dbb69",
   "metadata": {},
   "outputs": [],
   "source": [
    "import sqlite3\n",
    "\n",
    "conn = sqlite3.connect('books.db')\n",
    "\n",
    "cursor = conn.cursor()\n",
    "\n",
    "select_query = '''\n",
    "SELECT title FROM books\n",
    "ORDER BY title ASC\n",
    "'''\n",
    "\n",
    "cursor.execute(select_query)\n",
    "\n",
    "titles = cursor.fetchall()\n",
    "\n",
    "print(\"Titles in alphabetical order:\")\n",
    "for title in titles:\n",
    "    print(title[0])\n",
    "\n",
    "conn.close()"
   ]
  },
  {
   "cell_type": "markdown",
   "id": "df2aa111-5aa9-4063-8ca7-f01ca7cb70ff",
   "metadata": {},
   "source": [
    "# 16.8\n",
    "# Use the sqlalchemy module to connect to the sqlite3 database books.db that you just made in exercise 16.4. As in 16.6, select and print the title column from the book table in alphabetical order."
   ]
  },
  {
   "cell_type": "code",
   "execution_count": null,
   "id": "c6a684bb-af3e-4291-9e65-563280ba0466",
   "metadata": {},
   "outputs": [],
   "source": [
    "from sqlalchemy import create_engine, Column, Integer, String\n",
    "from sqlalchemy.ext.declarative import declarative_base\n",
    "from sqlalchemy.orm import sessionmaker\n",
    "\n",
    "engine = create_engine('sqlite:///books.db', echo=False)\n",
    "\n",
    "Base = declarative_base()\n",
    "\n",
    "class Book(Base):\n",
    "    __tablename__ = 'books'\n",
    "\n",
    "    id = Column(Integer, primary_key=True)\n",
    "    title = Column(String)\n",
    "    author = Column(String)\n",
    "    year = Column(Integer)\n",
    "\n",
    "Base.metadata.create_all(engine)\n",
    "\n",
    "Session = sessionmaker(bind=engine)\n",
    "session = Session()\n",
    "\n",
    "titles = session.query(Book.title).order_by(Book.title.asc()).all()\n",
    "\n",
    "print(\"Titles in alphabetical order:\")\n",
    "for title in titles:\n",
    "    print(title[0])"
   ]
  }
 ],
 "metadata": {
  "kernelspec": {
   "display_name": "Python 3 (ipykernel)",
   "language": "python",
   "name": "python3"
  },
  "language_info": {
   "codemirror_mode": {
    "name": "ipython",
    "version": 3
   },
   "file_extension": ".py",
   "mimetype": "text/x-python",
   "name": "python",
   "nbconvert_exporter": "python",
   "pygments_lexer": "ipython3",
   "version": "3.11.7"
  }
 },
 "nbformat": 4,
 "nbformat_minor": 5
}
